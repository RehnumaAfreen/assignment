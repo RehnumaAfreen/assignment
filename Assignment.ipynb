{
 "cells": [
  {
   "cell_type": "code",
   "execution_count": 1,
   "metadata": {},
   "outputs": [],
   "source": [
    "import requests"
   ]
  },
  {
   "cell_type": "code",
   "execution_count": 2,
   "metadata": {},
   "outputs": [],
   "source": [
    "url = 'https://api.macaddress.io/v1?apiKey=at_WP2aePgYyCgMPeQea4soaUO2qsM5j&output=json&search=44:38:39:ff:ef:57'"
   ]
  },
  {
   "cell_type": "code",
   "execution_count": 3,
   "metadata": {},
   "outputs": [],
   "source": [
    "response = requests.get(url)"
   ]
  },
  {
   "cell_type": "code",
   "execution_count": 4,
   "metadata": {},
   "outputs": [
    {
     "name": "stdout",
     "output_type": "stream",
     "text": [
      "{'vendorDetails': {'oui': '443839', 'isPrivate': False, 'companyName': 'Cumulus Networks, Inc', 'companyAddress': '650 Castro Street, suite 120-245 Mountain View CA 94041 US', 'countryCode': 'US'}, 'blockDetails': {'blockFound': True, 'borderLeft': '443839000000', 'borderRight': '443839FFFFFF', 'blockSize': 16777216, 'assignmentBlockSize': 'MA-L', 'dateCreated': '2012-04-08', 'dateUpdated': '2015-09-27'}, 'macAddressDetails': {'searchTerm': '44:38:39:ff:ef:57', 'isValid': True, 'virtualMachine': 'Not detected', 'applications': ['Multi-Chassis Link Aggregation (Cumulus Linux)'], 'transmissionType': 'unicast', 'administrationType': 'UAA', 'wiresharkNotes': 'No details', 'comment': ''}}\n"
     ]
    },
    {
     "data": {
      "text/plain": [
       "dict"
      ]
     },
     "execution_count": 4,
     "metadata": {},
     "output_type": "execute_result"
    }
   ],
   "source": [
    "r = response.json()\n",
    "print(r)\n",
    "type(r)"
   ]
  },
  {
   "cell_type": "code",
   "execution_count": 5,
   "metadata": {},
   "outputs": [],
   "source": [
    "import json"
   ]
  },
  {
   "cell_type": "code",
   "execution_count": 6,
   "metadata": {},
   "outputs": [
    {
     "name": "stdout",
     "output_type": "stream",
     "text": [
      "keys:\n",
      "vendorDetails\n",
      "values\n",
      "{'oui': '443839', 'isPrivate': False, 'companyName': 'Cumulus Networks, Inc', 'companyAddress': '650 Castro Street, suite 120-245 Mountain View CA 94041 US', 'countryCode': 'US'}\n",
      "keys:\n",
      "blockDetails\n",
      "values\n",
      "{'blockFound': True, 'borderLeft': '443839000000', 'borderRight': '443839FFFFFF', 'blockSize': 16777216, 'assignmentBlockSize': 'MA-L', 'dateCreated': '2012-04-08', 'dateUpdated': '2015-09-27'}\n",
      "keys:\n",
      "macAddressDetails\n",
      "values\n",
      "{'searchTerm': '44:38:39:ff:ef:57', 'isValid': True, 'virtualMachine': 'Not detected', 'applications': ['Multi-Chassis Link Aggregation (Cumulus Linux)'], 'transmissionType': 'unicast', 'administrationType': 'UAA', 'wiresharkNotes': 'No details', 'comment': ''}\n"
     ]
    }
   ],
   "source": [
    "for key, values in r.items():\n",
    "    print('keys:')\n",
    "    print(key)\n",
    "    print('values')\n",
    "    print(values)"
   ]
  },
  {
   "cell_type": "code",
   "execution_count": 7,
   "metadata": {},
   "outputs": [
    {
     "name": "stdout",
     "output_type": "stream",
     "text": [
      "{'oui': '443839', 'isPrivate': False, 'companyName': 'Cumulus Networks, Inc', 'companyAddress': '650 Castro Street, suite 120-245 Mountain View CA 94041 US', 'countryCode': 'US'}\n"
     ]
    }
   ],
   "source": [
    "vendor_details = r['vendorDetails']\n",
    "print(vendor_details)"
   ]
  },
  {
   "cell_type": "code",
   "execution_count": 8,
   "metadata": {},
   "outputs": [
    {
     "data": {
      "text/plain": [
       "'Cumulus Networks, Inc'"
      ]
     },
     "execution_count": 8,
     "metadata": {},
     "output_type": "execute_result"
    }
   ],
   "source": [
    "vendor_details['companyName']"
   ]
  }
 ],
 "metadata": {
  "kernelspec": {
   "display_name": "Python 3",
   "language": "python",
   "name": "python3"
  },
  "language_info": {
   "codemirror_mode": {
    "name": "ipython",
    "version": 3
   },
   "file_extension": ".py",
   "mimetype": "text/x-python",
   "name": "python",
   "nbconvert_exporter": "python",
   "pygments_lexer": "ipython3",
   "version": "3.7.6"
  }
 },
 "nbformat": 4,
 "nbformat_minor": 4
}
